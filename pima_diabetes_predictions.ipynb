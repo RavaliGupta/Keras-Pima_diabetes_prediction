{
 "cells": [
  {
   "cell_type": "code",
   "execution_count": 253,
   "metadata": {
    "collapsed": false,
    "deletable": true,
    "editable": true
   },
   "outputs": [],
   "source": [
    "\n",
    "import pandas as pd\n",
    "from keras.models import Sequential\n",
    "from keras.layers import *\n",
    "from sklearn.preprocessing import MinMaxScaler\n",
    "import matplotlib.pyplot as plt\n",
    "%matplotlib inline\n"
   ]
  },
  {
   "cell_type": "code",
   "execution_count": null,
   "metadata": {
    "collapsed": false,
    "deletable": true,
    "editable": true
   },
   "outputs": [],
   "source": [
    "\n"
   ]
  },
  {
   "cell_type": "code",
   "execution_count": 254,
   "metadata": {
    "collapsed": false,
    "deletable": true,
    "editable": true
   },
   "outputs": [],
   "source": [
    "#Read the data from the dataset\n",
    "\n",
    "training_data_df = pd .read_csv('pima_indians_diabetes.csv')\n",
    "testing_data_df = pd.read_csv('pima_indians_diabetes_test.csv')\n"
   ]
  },
  {
   "cell_type": "code",
   "execution_count": 255,
   "metadata": {
    "collapsed": false,
    "deletable": true,
    "editable": true
   },
   "outputs": [
    {
     "data": {
      "text/html": [
       "<div>\n",
       "<style>\n",
       "    .dataframe thead tr:only-child th {\n",
       "        text-align: right;\n",
       "    }\n",
       "\n",
       "    .dataframe thead th {\n",
       "        text-align: left;\n",
       "    }\n",
       "\n",
       "    .dataframe tbody tr th {\n",
       "        vertical-align: top;\n",
       "    }\n",
       "</style>\n",
       "<table border=\"1\" class=\"dataframe\">\n",
       "  <thead>\n",
       "    <tr style=\"text-align: right;\">\n",
       "      <th></th>\n",
       "      <th>pregnant_times</th>\n",
       "      <th>glucose_tolerance_test</th>\n",
       "      <th>Diastolic_blood_pressure</th>\n",
       "      <th>Triceps_skin_fold_thickness</th>\n",
       "      <th>serum_insulin</th>\n",
       "      <th>Body_mass_index</th>\n",
       "      <th>Diabetes_pedigree_function</th>\n",
       "      <th>Age</th>\n",
       "      <th>Class_variable</th>\n",
       "    </tr>\n",
       "  </thead>\n",
       "  <tbody>\n",
       "    <tr>\n",
       "      <th>0</th>\n",
       "      <td>6</td>\n",
       "      <td>148</td>\n",
       "      <td>72</td>\n",
       "      <td>35</td>\n",
       "      <td>0</td>\n",
       "      <td>33.6</td>\n",
       "      <td>0.627</td>\n",
       "      <td>50</td>\n",
       "      <td>1</td>\n",
       "    </tr>\n",
       "    <tr>\n",
       "      <th>1</th>\n",
       "      <td>1</td>\n",
       "      <td>85</td>\n",
       "      <td>66</td>\n",
       "      <td>29</td>\n",
       "      <td>0</td>\n",
       "      <td>26.6</td>\n",
       "      <td>0.351</td>\n",
       "      <td>31</td>\n",
       "      <td>0</td>\n",
       "    </tr>\n",
       "    <tr>\n",
       "      <th>2</th>\n",
       "      <td>8</td>\n",
       "      <td>183</td>\n",
       "      <td>64</td>\n",
       "      <td>0</td>\n",
       "      <td>0</td>\n",
       "      <td>23.3</td>\n",
       "      <td>0.672</td>\n",
       "      <td>32</td>\n",
       "      <td>1</td>\n",
       "    </tr>\n",
       "    <tr>\n",
       "      <th>3</th>\n",
       "      <td>1</td>\n",
       "      <td>89</td>\n",
       "      <td>66</td>\n",
       "      <td>23</td>\n",
       "      <td>94</td>\n",
       "      <td>28.1</td>\n",
       "      <td>0.167</td>\n",
       "      <td>21</td>\n",
       "      <td>0</td>\n",
       "    </tr>\n",
       "    <tr>\n",
       "      <th>4</th>\n",
       "      <td>0</td>\n",
       "      <td>137</td>\n",
       "      <td>40</td>\n",
       "      <td>35</td>\n",
       "      <td>168</td>\n",
       "      <td>43.1</td>\n",
       "      <td>2.288</td>\n",
       "      <td>33</td>\n",
       "      <td>1</td>\n",
       "    </tr>\n",
       "  </tbody>\n",
       "</table>\n",
       "</div>"
      ],
      "text/plain": [
       "   pregnant_times  glucose_tolerance_test  Diastolic_blood_pressure  \\\n",
       "0               6                     148                        72   \n",
       "1               1                      85                        66   \n",
       "2               8                     183                        64   \n",
       "3               1                      89                        66   \n",
       "4               0                     137                        40   \n",
       "\n",
       "   Triceps_skin_fold_thickness  serum_insulin  Body_mass_index  \\\n",
       "0                           35              0             33.6   \n",
       "1                           29              0             26.6   \n",
       "2                            0              0             23.3   \n",
       "3                           23             94             28.1   \n",
       "4                           35            168             43.1   \n",
       "\n",
       "   Diabetes_pedigree_function  Age  Class_variable  \n",
       "0                       0.627   50               1  \n",
       "1                       0.351   31               0  \n",
       "2                       0.672   32               1  \n",
       "3                       0.167   21               0  \n",
       "4                       2.288   33               1  "
      ]
     },
     "execution_count": 255,
     "metadata": {},
     "output_type": "execute_result"
    }
   ],
   "source": [
    "training_data_df.head()\n"
   ]
  },
  {
   "cell_type": "code",
   "execution_count": 256,
   "metadata": {
    "collapsed": false,
    "deletable": true,
    "editable": true
   },
   "outputs": [
    {
     "data": {
      "text/html": [
       "<div>\n",
       "<style>\n",
       "    .dataframe thead tr:only-child th {\n",
       "        text-align: right;\n",
       "    }\n",
       "\n",
       "    .dataframe thead th {\n",
       "        text-align: left;\n",
       "    }\n",
       "\n",
       "    .dataframe tbody tr th {\n",
       "        vertical-align: top;\n",
       "    }\n",
       "</style>\n",
       "<table border=\"1\" class=\"dataframe\">\n",
       "  <thead>\n",
       "    <tr style=\"text-align: right;\">\n",
       "      <th></th>\n",
       "      <th>pregnant_times</th>\n",
       "      <th>glucose_tolerance_test</th>\n",
       "      <th>Diastolic_blood_pressure</th>\n",
       "      <th>Triceps_skin_fold_thickness</th>\n",
       "      <th>serum_insulin</th>\n",
       "      <th>Body_mass_index</th>\n",
       "      <th>Diabetes_pedigree_function</th>\n",
       "      <th>Age</th>\n",
       "      <th>Class_variable</th>\n",
       "    </tr>\n",
       "  </thead>\n",
       "  <tbody>\n",
       "    <tr>\n",
       "      <th>0</th>\n",
       "      <td>4</td>\n",
       "      <td>118</td>\n",
       "      <td>70</td>\n",
       "      <td>0</td>\n",
       "      <td>0</td>\n",
       "      <td>44.5</td>\n",
       "      <td>0.904</td>\n",
       "      <td>26</td>\n",
       "      <td>0</td>\n",
       "    </tr>\n",
       "    <tr>\n",
       "      <th>1</th>\n",
       "      <td>2</td>\n",
       "      <td>122</td>\n",
       "      <td>76</td>\n",
       "      <td>27</td>\n",
       "      <td>200</td>\n",
       "      <td>35.9</td>\n",
       "      <td>0.483</td>\n",
       "      <td>26</td>\n",
       "      <td>0</td>\n",
       "    </tr>\n",
       "    <tr>\n",
       "      <th>2</th>\n",
       "      <td>6</td>\n",
       "      <td>125</td>\n",
       "      <td>78</td>\n",
       "      <td>31</td>\n",
       "      <td>0</td>\n",
       "      <td>27.6</td>\n",
       "      <td>0.565</td>\n",
       "      <td>49</td>\n",
       "      <td>1</td>\n",
       "    </tr>\n",
       "    <tr>\n",
       "      <th>3</th>\n",
       "      <td>1</td>\n",
       "      <td>168</td>\n",
       "      <td>88</td>\n",
       "      <td>29</td>\n",
       "      <td>0</td>\n",
       "      <td>35.0</td>\n",
       "      <td>0.905</td>\n",
       "      <td>52</td>\n",
       "      <td>1</td>\n",
       "    </tr>\n",
       "    <tr>\n",
       "      <th>4</th>\n",
       "      <td>2</td>\n",
       "      <td>129</td>\n",
       "      <td>0</td>\n",
       "      <td>0</td>\n",
       "      <td>0</td>\n",
       "      <td>38.5</td>\n",
       "      <td>0.304</td>\n",
       "      <td>41</td>\n",
       "      <td>0</td>\n",
       "    </tr>\n",
       "  </tbody>\n",
       "</table>\n",
       "</div>"
      ],
      "text/plain": [
       "   pregnant_times  glucose_tolerance_test  Diastolic_blood_pressure  \\\n",
       "0               4                     118                        70   \n",
       "1               2                     122                        76   \n",
       "2               6                     125                        78   \n",
       "3               1                     168                        88   \n",
       "4               2                     129                         0   \n",
       "\n",
       "   Triceps_skin_fold_thickness  serum_insulin  Body_mass_index  \\\n",
       "0                            0              0             44.5   \n",
       "1                           27            200             35.9   \n",
       "2                           31              0             27.6   \n",
       "3                           29              0             35.0   \n",
       "4                            0              0             38.5   \n",
       "\n",
       "   Diabetes_pedigree_function  Age  Class_variable  \n",
       "0                       0.904   26               0  \n",
       "1                       0.483   26               0  \n",
       "2                       0.565   49               1  \n",
       "3                       0.905   52               1  \n",
       "4                       0.304   41               0  "
      ]
     },
     "execution_count": 256,
     "metadata": {},
     "output_type": "execute_result"
    }
   ],
   "source": [
    "testing_data_df.head()"
   ]
  },
  {
   "cell_type": "code",
   "execution_count": 257,
   "metadata": {
    "collapsed": false,
    "deletable": true,
    "editable": true
   },
   "outputs": [],
   "source": [
    "### scale the values to 0&1\n",
    "from sklearn.preprocessing import MinMaxScaler\n",
    "scaler = MinMaxScaler(feature_range=(0,1))\n",
    "\n",
    "scaled_train = scaler.fit_transform(training_data_df)\n",
    "scaled_test = scaler.transform(testing_data_df)\n",
    "\n",
    "### creating pandas dataframe for scaled data\n",
    "\n",
    "scaled_train_df = pd.DataFrame(data=scaled_train,columns=training_data_df.columns.values)\n",
    "scaled_test_df = pd.DataFrame(data=scaled_test,columns=testing_data_df.columns.values)\n",
    "\n",
    "scaled_train_df.to_csv('pima_train_scaled.csv',index=False)\n",
    "scaled_test_df.to_csv('pima_test_scaled.csv',index=False)"
   ]
  },
  {
   "cell_type": "code",
   "execution_count": 258,
   "metadata": {
    "collapsed": false,
    "deletable": true,
    "editable": true
   },
   "outputs": [],
   "source": [
    "#### creating a neural net model\n",
    "\n",
    "model = Sequential()\n",
    "model.add(Dense(10,input_dim=8,activation='elu'))\n",
    "model.add(Dense(50,activation='elu'))\n",
    "model.add(Dense(50,activation='elu'))\n",
    "model.add(Dense(50,activation='relu'))\n",
    "model.add(Dense(1,activation='linear'))\n",
    "\n",
    "model.compile(optimizer='adam',loss='mse',metrics=['accuracy'])"
   ]
  },
  {
   "cell_type": "code",
   "execution_count": 259,
   "metadata": {
    "collapsed": true,
    "deletable": true,
    "editable": true
   },
   "outputs": [],
   "source": [
    "###Loading scaled dataset\n",
    "\n",
    "scaled_training_data = pd .read_csv('pima_train_scaled.csv')\n",
    "\n",
    "X_train = scaled_training_data.drop(['Class_variable'],axis=1).values\n",
    "Y_train = scaled_training_data['Class_variable'].values\n",
    "\n",
    "scaled_testing_data = pd.read_csv('pima_test_scaled.csv')\n",
    "\n",
    "X_test = scaled_testing_data.drop(['Class_variable'],axis=1).values\n",
    "Y_test = scaled_testing_data['Class_variable'].values\n"
   ]
  },
  {
   "cell_type": "code",
   "execution_count": 260,
   "metadata": {
    "collapsed": false
   },
   "outputs": [
    {
     "name": "stdout",
     "output_type": "stream",
     "text": [
      "Epoch 1/100\n",
      "0s - loss: 0.2123 - acc: 0.6823\n",
      "Epoch 2/100\n",
      "0s - loss: 0.1868 - acc: 0.7044\n",
      "Epoch 3/100\n",
      "0s - loss: 0.1797 - acc: 0.7266\n",
      "Epoch 4/100\n",
      "0s - loss: 0.1781 - acc: 0.7292\n",
      "Epoch 5/100\n",
      "0s - loss: 0.1713 - acc: 0.7448\n",
      "Epoch 6/100\n",
      "0s - loss: 0.1671 - acc: 0.7409\n",
      "Epoch 7/100\n",
      "0s - loss: 0.1697 - acc: 0.7500\n",
      "Epoch 8/100\n",
      "0s - loss: 0.1627 - acc: 0.7695\n",
      "Epoch 9/100\n",
      "0s - loss: 0.1627 - acc: 0.7591\n",
      "Epoch 10/100\n",
      "0s - loss: 0.1635 - acc: 0.7578\n",
      "Epoch 11/100\n",
      "0s - loss: 0.1538 - acc: 0.7734\n",
      "Epoch 12/100\n",
      "0s - loss: 0.1519 - acc: 0.7760\n",
      "Epoch 13/100\n",
      "0s - loss: 0.1527 - acc: 0.7799\n",
      "Epoch 14/100\n",
      "0s - loss: 0.1518 - acc: 0.7865\n",
      "Epoch 15/100\n",
      "0s - loss: 0.1502 - acc: 0.7747\n",
      "Epoch 16/100\n",
      "0s - loss: 0.1576 - acc: 0.7643\n",
      "Epoch 17/100\n",
      "0s - loss: 0.1471 - acc: 0.7865\n",
      "Epoch 18/100\n",
      "0s - loss: 0.1460 - acc: 0.7969\n",
      "Epoch 19/100\n",
      "0s - loss: 0.1484 - acc: 0.7852\n",
      "Epoch 20/100\n",
      "0s - loss: 0.1483 - acc: 0.7839\n",
      "Epoch 21/100\n",
      "0s - loss: 0.1455 - acc: 0.7995\n",
      "Epoch 22/100\n",
      "0s - loss: 0.1510 - acc: 0.7878\n",
      "Epoch 23/100\n",
      "0s - loss: 0.1470 - acc: 0.7812\n",
      "Epoch 24/100\n",
      "0s - loss: 0.1454 - acc: 0.7995\n",
      "Epoch 25/100\n",
      "0s - loss: 0.1424 - acc: 0.7930\n",
      "Epoch 26/100\n",
      "0s - loss: 0.1435 - acc: 0.7995\n",
      "Epoch 27/100\n",
      "0s - loss: 0.1413 - acc: 0.7969\n",
      "Epoch 28/100\n",
      "0s - loss: 0.1413 - acc: 0.7943\n",
      "Epoch 29/100\n",
      "0s - loss: 0.1438 - acc: 0.7878\n",
      "Epoch 30/100\n",
      "0s - loss: 0.1414 - acc: 0.7969\n",
      "Epoch 31/100\n",
      "0s - loss: 0.1455 - acc: 0.7930\n",
      "Epoch 32/100\n",
      "0s - loss: 0.1423 - acc: 0.7865\n",
      "Epoch 33/100\n",
      "0s - loss: 0.1396 - acc: 0.8073\n",
      "Epoch 34/100\n",
      "0s - loss: 0.1378 - acc: 0.8047\n",
      "Epoch 35/100\n",
      "0s - loss: 0.1391 - acc: 0.8008\n",
      "Epoch 36/100\n",
      "0s - loss: 0.1383 - acc: 0.7969\n",
      "Epoch 37/100\n",
      "0s - loss: 0.1400 - acc: 0.7969\n",
      "Epoch 38/100\n",
      "0s - loss: 0.1375 - acc: 0.8125\n",
      "Epoch 39/100\n",
      "0s - loss: 0.1360 - acc: 0.8125\n",
      "Epoch 40/100\n",
      "0s - loss: 0.1423 - acc: 0.7969\n",
      "Epoch 41/100\n",
      "0s - loss: 0.1357 - acc: 0.8034\n",
      "Epoch 42/100\n",
      "0s - loss: 0.1378 - acc: 0.8008\n",
      "Epoch 43/100\n",
      "0s - loss: 0.1359 - acc: 0.8047\n",
      "Epoch 44/100\n",
      "0s - loss: 0.1348 - acc: 0.8099\n",
      "Epoch 45/100\n",
      "0s - loss: 0.1333 - acc: 0.8112\n",
      "Epoch 46/100\n",
      "0s - loss: 0.1360 - acc: 0.8138\n",
      "Epoch 47/100\n",
      "0s - loss: 0.1330 - acc: 0.8086\n",
      "Epoch 48/100\n",
      "0s - loss: 0.1379 - acc: 0.7995\n",
      "Epoch 49/100\n",
      "0s - loss: 0.1341 - acc: 0.8190\n",
      "Epoch 50/100\n",
      "0s - loss: 0.1350 - acc: 0.8086\n",
      "Epoch 51/100\n",
      "0s - loss: 0.1350 - acc: 0.8086\n",
      "Epoch 52/100\n",
      "0s - loss: 0.1320 - acc: 0.8177\n",
      "Epoch 53/100\n",
      "0s - loss: 0.1346 - acc: 0.8151\n",
      "Epoch 54/100\n",
      "0s - loss: 0.1335 - acc: 0.8060\n",
      "Epoch 55/100\n",
      "0s - loss: 0.1339 - acc: 0.8190\n",
      "Epoch 56/100\n",
      "0s - loss: 0.1318 - acc: 0.8190\n",
      "Epoch 57/100\n",
      "0s - loss: 0.1329 - acc: 0.8203\n",
      "Epoch 58/100\n",
      "0s - loss: 0.1313 - acc: 0.8177\n",
      "Epoch 59/100\n",
      "0s - loss: 0.1305 - acc: 0.8229\n",
      "Epoch 60/100\n",
      "0s - loss: 0.1348 - acc: 0.8190\n",
      "Epoch 61/100\n",
      "0s - loss: 0.1321 - acc: 0.8229\n",
      "Epoch 62/100\n",
      "0s - loss: 0.1304 - acc: 0.8073\n",
      "Epoch 63/100\n",
      "0s - loss: 0.1299 - acc: 0.8216\n",
      "Epoch 64/100\n",
      "0s - loss: 0.1287 - acc: 0.8216\n",
      "Epoch 65/100\n",
      "0s - loss: 0.1299 - acc: 0.8268\n",
      "Epoch 66/100\n",
      "0s - loss: 0.1293 - acc: 0.8255\n",
      "Epoch 67/100\n",
      "0s - loss: 0.1300 - acc: 0.8151\n",
      "Epoch 68/100\n",
      "0s - loss: 0.1286 - acc: 0.8125\n",
      "Epoch 69/100\n",
      "0s - loss: 0.1280 - acc: 0.8255\n",
      "Epoch 70/100\n",
      "0s - loss: 0.1286 - acc: 0.8255\n",
      "Epoch 71/100\n",
      "0s - loss: 0.1300 - acc: 0.8229\n",
      "Epoch 72/100\n",
      "0s - loss: 0.1287 - acc: 0.8294\n",
      "Epoch 73/100\n",
      "0s - loss: 0.1276 - acc: 0.8229\n",
      "Epoch 74/100\n",
      "0s - loss: 0.1284 - acc: 0.8268\n",
      "Epoch 75/100\n",
      "0s - loss: 0.1262 - acc: 0.8307\n",
      "Epoch 76/100\n",
      "0s - loss: 0.1283 - acc: 0.8190\n",
      "Epoch 77/100\n",
      "0s - loss: 0.1264 - acc: 0.8320\n",
      "Epoch 78/100\n",
      "0s - loss: 0.1279 - acc: 0.8216\n",
      "Epoch 79/100\n",
      "0s - loss: 0.1251 - acc: 0.8268\n",
      "Epoch 80/100\n",
      "0s - loss: 0.1272 - acc: 0.8333\n",
      "Epoch 81/100\n",
      "0s - loss: 0.1260 - acc: 0.8281\n",
      "Epoch 82/100\n",
      "0s - loss: 0.1247 - acc: 0.8268\n",
      "Epoch 83/100\n",
      "0s - loss: 0.1252 - acc: 0.8372\n",
      "Epoch 84/100\n",
      "0s - loss: 0.1253 - acc: 0.8294\n",
      "Epoch 85/100\n",
      "0s - loss: 0.1272 - acc: 0.8281\n",
      "Epoch 86/100\n",
      "0s - loss: 0.1246 - acc: 0.8281\n",
      "Epoch 87/100\n",
      "0s - loss: 0.1273 - acc: 0.8294\n",
      "Epoch 88/100\n",
      "0s - loss: 0.1247 - acc: 0.8333\n",
      "Epoch 89/100\n",
      "0s - loss: 0.1241 - acc: 0.8294\n",
      "Epoch 90/100\n",
      "0s - loss: 0.1283 - acc: 0.8203\n",
      "Epoch 91/100\n",
      "0s - loss: 0.1258 - acc: 0.8164\n",
      "Epoch 92/100\n",
      "0s - loss: 0.1276 - acc: 0.8216\n",
      "Epoch 93/100\n",
      "0s - loss: 0.1244 - acc: 0.8281\n",
      "Epoch 94/100\n",
      "0s - loss: 0.1244 - acc: 0.8346\n",
      "Epoch 95/100\n",
      "0s - loss: 0.1269 - acc: 0.8320\n",
      "Epoch 96/100\n",
      "0s - loss: 0.1256 - acc: 0.8320\n",
      "Epoch 97/100\n",
      "0s - loss: 0.1222 - acc: 0.8307\n",
      "Epoch 98/100\n",
      "0s - loss: 0.1245 - acc: 0.8320\n",
      "Epoch 99/100\n",
      "0s - loss: 0.1254 - acc: 0.8281\n",
      "Epoch 100/100\n",
      "0s - loss: 0.1230 - acc: 0.8398\n"
     ]
    }
   ],
   "source": [
    "#Fitting the Model\n",
    "pima_model= model.fit(X_train,Y_train,shuffle=True,verbose=2,epochs=100)"
   ]
  },
  {
   "cell_type": "code",
   "execution_count": 261,
   "metadata": {
    "collapsed": false
   },
   "outputs": [
    {
     "name": "stdout",
     "output_type": "stream",
     "text": [
      "Test error rate is 0.11185280552160913\n",
      "Accuracy on test dataset 88.40579710144928\n"
     ]
    }
   ],
   "source": [
    "test_error_rate  = model.evaluate(X_test,Y_test,verbose=0)\n",
    "\n",
    "print('Test error rate is {}'.format(test_error_rate[0]))\n",
    "print('Accuracy on test dataset {}'.format(test_error_rate[1]*100))"
   ]
  },
  {
   "cell_type": "code",
   "execution_count": 262,
   "metadata": {
    "collapsed": true
   },
   "outputs": [],
   "source": [
    "model.save('pima_keras_model.h5')"
   ]
  },
  {
   "cell_type": "code",
   "execution_count": 263,
   "metadata": {
    "collapsed": false
   },
   "outputs": [],
   "source": [
    "#Loading a test dataset to make predictions on new dataset\n",
    "predict_data = pd .read_csv('pima_predictions.csv').values\n"
   ]
  },
  {
   "cell_type": "code",
   "execution_count": 264,
   "metadata": {
    "collapsed": false
   },
   "outputs": [
    {
     "name": "stdout",
     "output_type": "stream",
     "text": [
      "1.0\n",
      "1.0\n",
      "1.0\n",
      "0.0\n",
      "0.0\n",
      "0.0\n",
      "1.0\n",
      "1.0\n",
      "0.0\n",
      "1.0\n",
      "0.0\n",
      "1.0\n",
      "-0.0\n",
      "1.0\n",
      "0.0\n",
      "0.0\n",
      "0.0\n",
      "0.0\n",
      "1.0\n",
      "-0.0\n"
     ]
    }
   ],
   "source": [
    "\n",
    "predictions = model.predict(predict_data)\n",
    "\n",
    "for pred_data in predictions:\n",
    "      print(round(pred_data[0]))"
   ]
  },
  {
   "cell_type": "code",
   "execution_count": 265,
   "metadata": {
    "collapsed": false
   },
   "outputs": [
    {
     "name": "stdout",
     "output_type": "stream",
     "text": [
      "Accuracy on the test dataset: [0.68229166666666663, 0.70442708333333337, 0.7265625, 0.72916666666666663, 0.74479166666666663, 0.74088541666666663, 0.75, 0.76953125, 0.75911458333333337, 0.7578125, 0.7734375, 0.77604166666666663, 0.77994791666666663, 0.78645833333333337, 0.77473958333333337, 0.76432291666666663, 0.78645833333333337, 0.796875, 0.78515625, 0.78385416666666663, 0.79947916666666663, 0.78776041666666663, 0.78125, 0.79947916666666663, 0.79296875, 0.79947916666666663, 0.796875, 0.79427083333333337, 0.78776041666666663, 0.796875, 0.79296875, 0.78645833333333337, 0.80729166666666663, 0.8046875, 0.80078125, 0.796875, 0.796875, 0.8125, 0.8125, 0.796875, 0.80338541666666663, 0.80078125, 0.8046875, 0.80989583333333337, 0.81119791666666663, 0.81380208333333337, 0.80859375, 0.79947916666666663, 0.81901041666666663, 0.80859375, 0.80859375, 0.81770833333333337, 0.81510416666666663, 0.80598958333333337, 0.81901041666666663, 0.81901041666666663, 0.8203125, 0.81770833333333337, 0.82291666666666663, 0.81901041666666663, 0.82291666666666663, 0.80729166666666663, 0.82161458333333337, 0.82161458333333337, 0.82682291666666663, 0.82552083333333337, 0.81510416666666663, 0.8125, 0.82552083333333337, 0.82552083333333337, 0.82291666666666663, 0.82942708333333337, 0.82291666666666663, 0.82682291666666663, 0.83072916666666663, 0.81901041666666663, 0.83203125, 0.82161458333333337, 0.82682291666666663, 0.83333333333333337, 0.828125, 0.82682291666666663, 0.83723958333333337, 0.82942708333333337, 0.828125, 0.828125, 0.82942708333333337, 0.83333333333333337, 0.82942708333333337, 0.8203125, 0.81640625, 0.82161458333333337, 0.828125, 0.83463541666666663, 0.83203125, 0.83203125, 0.83072916666666663, 0.83203125, 0.828125, 0.83984375]\n"
     ]
    }
   ],
   "source": [
    "print('Accuracy on the test dataset:',pima_model.history['acc'])\n"
   ]
  },
  {
   "cell_type": "code",
   "execution_count": 266,
   "metadata": {
    "collapsed": false
   },
   "outputs": [
    {
     "data": {
      "image/png": "[encoded data removed]",
      "text/plain": [
       "<matplotlib.figure.Figure at 0x1567c1c8588>"
      ]
     },
     "metadata": {},
     "output_type": "display_data"
    }
   ],
   "source": [
    "\n",
    "plt.plot(pima_model.history['acc'])\n",
    "\n",
    "plt.title('Model Accuracy')\n",
    "plt.ylabel('accuracy')\n",
    "plt.xlabel('epoch')\n",
    "plt.legend(['train', 'test'])\n",
    "plt.show()"
   ]
  },
  {
   "cell_type": "code",
   "execution_count": null,
   "metadata": {
    "collapsed": true
   },
   "outputs": [],
   "source": []
  }
 ],
 "metadata": {
  "anaconda-cloud": {},
  "kernelspec": {
   "display_name": "Python [default]",
   "language": "python",
   "name": "python3"
  },
  "language_info": {
   "codemirror_mode": {
    "name": "ipython",
    "version": 3
   },
   "file_extension": ".py",
   "mimetype": "text/x-python",
   "name": "python",
   "nbconvert_exporter": "python",
   "pygments_lexer": "ipython3",
   "version": "3.5.4"
  }
 },
 "nbformat": 4,
 "nbformat_minor": 2
}
